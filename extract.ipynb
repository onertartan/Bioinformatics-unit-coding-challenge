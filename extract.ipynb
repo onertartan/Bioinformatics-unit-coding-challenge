{
 "cells": [
  {
   "cell_type": "code",
   "execution_count": 111,
   "id": "a45e8ba8",
   "metadata": {},
   "outputs": [],
   "source": [
    "class Chromosome:\n",
    "    code_dict = None\n",
    "    def __init__(self,chr_id):\n",
    "        self.chr_id = chr_id    # Chromosome id\n",
    "        self.chrom = \"\"         # all mRNA sequences \n",
    "        self.genes = {}         # Dict: keys are gene names,values are sequences\n",
    "        self.amino_acid_seqs={} # Dict: keys are gene names, values are amino acid translation of genes\n",
    "        self.startCodon = \"ATG\" # Start codon\n",
    "\n",
    "    def translate(self, gene, start, stop):\n",
    "         # extract gene from mRNA sequences\n",
    "        sequence = self.chrom[start:stop] \n",
    "        # Initialize amino_acid_seqs\n",
    "        self.amino_acid_seqs[gene] = \"\"\n",
    "         \n",
    "        for frame in range(0,6):  # for 6 frames\n",
    "             #Before reading last 3 frames, reverse the sequence\n",
    "            if frame==3:         \n",
    "                sequence = self.reverse(sequence) \n",
    "            # record mRNA sequence of the gene in the relevant dict\n",
    "            self.genes[gene] =  sequence\n",
    "            # Determine the start codon\n",
    "            self.find_longest_translation_for_frame(frame,sequence)\n",
    "    \n",
    "    def find_longest_translation_for_frame(self,frame,sequence):\n",
    "        # Helper method to find the longest translation \n",
    "        # according to the frame\n",
    "        \n",
    "            #initialize temp_amino_acid_seqs as empty string\n",
    "            temp_amino_acid_seqs = \"\"\n",
    "            #Start from 0,1,2 according to the frame\n",
    "            start = self.find_next_start_codon(frame%3,sequence)        \n",
    "\n",
    "            for i in range( start , len(sequence)-2, 3): \n",
    "                # If the codon read is not end codon \n",
    "                if  code_dict[sequence[i:i+3]]!= \"*\":   \n",
    "                    # append the translation of the codon to amino acid sequence\n",
    "                    temp_amino_acid_seqs += code_dict[sequence[i:i+3]] \n",
    "                # else (if the codon read is the end codon)\n",
    "                else:       \n",
    "                   #  if the new seq is longer save it.\n",
    "                    if len(temp_amino_acid_seqs)>len( self.amino_acid_seqs[gene]):\n",
    "                        self.amino_acid_seqs[gene] = temp_amino_acid_seqs\n",
    "                        temp_amino_acid_seqs=\"\"\n",
    "                    # Find the next start codon\n",
    "                    start = self.find_next_start_codon(i,sequence)\n",
    "                    # continue to search for possible longer translations \n",
    "                    \n",
    "    def find_next_start_codon(self,i,sequence):\n",
    "        # Helper method to find the next start codon after i\n",
    "        for j in range(i,(len(sequence)-2),3):\n",
    "                if sequence[j:j+3] ==self.startCodon:\n",
    "                    break\n",
    "        return j\n",
    "    \n",
    "    def reverse(self,sequence): \n",
    "        # Helper method to reverse the mRNA sequences (for the last 3 frames)\n",
    "        sequence = sequence[::-1]  \n",
    "        sequence = sequence.replace(\"A\",\"t\")\n",
    "        sequence = sequence.replace(\"T\",\"A\")\n",
    "        sequence = sequence.replace(\"G\",\"c\")\n",
    "        sequence = sequence.replace(\"C\",\"G\")\n",
    "        sequence=sequence.upper()\n",
    "        return sequence\n",
    "  \n",
    "    def info(self):        \n",
    "        # Helper function to print info\n",
    "        print(f\"Chromosome id: {self.chr_id}\")\n",
    "        print(\"Sequence length:\",len(self.chrom))\n",
    "        for gene in self.genes:\n",
    "           # print(gene)\n",
    "            print(self.amino_acid_seqs[gene])"
   ]
  },
  {
   "cell_type": "code",
   "execution_count": 112,
   "id": "9a24205f",
   "metadata": {},
   "outputs": [],
   "source": [
    "# assing code dictionary to Class static member code_dict for translation \n",
    "code_dict = {} \n",
    "with open(\"standard_code.txt\",\"r\") as f:\n",
    "    for line in f.readlines():\n",
    "        codon, amino_acid = line.split()\n",
    "        if len(codon)==3: \n",
    "            code_dict[codon] = amino_acid\n",
    "Chromosome.code_dict = code_dict"
   ]
  },
  {
   "cell_type": "code",
   "execution_count": 113,
   "id": "6959e2cf",
   "metadata": {},
   "outputs": [],
   "source": [
    "# Generate objects of type Chromosome class\n",
    "chromosomes = {}\n",
    "with open(\"sequences.fasta\") as f:\n",
    "    for line in f.read().splitlines():\n",
    "        if line.startswith(\">\"):\n",
    "            chr_id = line[1:]\n",
    "            chromosomes[chr_id] = Chromosome(chr_id)  \n",
    "        else:\n",
    "            chromosomes[chr_id].chrom += line"
   ]
  },
  {
   "cell_type": "code",
   "execution_count": 114,
   "id": "bfe00f7b",
   "metadata": {},
   "outputs": [],
   "source": [
    "# translate chromosomes\n",
    "with open(\"intervals.gff\",\"r\") as f:\n",
    "    for line in f.read().splitlines():\n",
    "        chr_id, start, stop, gene = line.strip().split()\n",
    "        if start.isnumeric() and stop.isnumeric():                   # skip header-like lines\n",
    "            chromosomes[chr_id].translate(gene,int(start),int(stop)) # using gene as the key,add start-stop indices to the chromosome's corresponding dictionary "
   ]
  },
  {
   "cell_type": "code",
   "execution_count": 115,
   "id": "bdd22954",
   "metadata": {},
   "outputs": [
    {
     "name": "stdout",
     "output_type": "stream",
     "text": [
      "> gene0\n",
      "MMWIYCGFFRTSRMRDWWKLTVDTDDPPELILMSMHRNVCKICVLQMNRHFSGCRLNFVWMNGEEM\n",
      "> gene1\n",
      "MVKRWQSWRFYVGPGIRAPMLPDPMTRQQLVVFVPWALYHTSHNWKCLNGTTHSHRSQLRAFYGEIKGEGDMFF\n",
      "> gene2\n",
      "MRTVVMTKGCVQYDWQGCACTLQHRVKCMFMFNYLDESNDHGVSFTYMVQAYWIWKRVVCAPGSVL\n",
      "> gene3\n",
      "MPVFSAWTTDYWKGLLIRPAYGQSNAAVCLTQRWFGGGLITTSQKETIKFSNPTTWVMMNIDDYINQSD\n",
      "> gene4\n",
      "MLAMMCAKHKLIQHSMRDCWHNLTCQCCQFSKMYAKPCWQYRNKLFKVWIRG\n",
      "> gene5\n",
      "MDIYFSWNEMMSTKGELRYPWFKGFSYLKHGCMWVPLQFWGNRMVSHEKFQHHVLFTEVDMVQ\n",
      "> gene6\n",
      "MSVSNQGERSDSWNPHTWTLQKHWRQLSMYGKKDAVLECMAMPMMQSIFYMQKIDQMMWQSLMVTWFRGCGQCKDLS\n",
      "> gene7\n",
      "MFVCNLVRLFYGPFSNWSDVTLGGLIASDPPRGTQTCGWSIKDNPRLMGHAQFRWDPQSQPYDHFASIDLIKPMPSRFYMHAQPAIEPLLNT\n",
      "> gene8\n",
      "MKQTCIHNVLHKGPRKCASLLTQFYRYTIRHANRPYYVVVLTRHIQPFPMDACTHHAFVHTVILIHYDEYVVAINRGTHHSL\n",
      "> gene9\n",
      "MRPRCKRLVRWKMRLFAALAPVIGYQYQKACSEDICFTIMLYFKDRAESTRYACDNNFNTMWWQNAYPRCIMFTNHYTAGMHMNDLIRMAWFFLHLHLD\n"
     ]
    }
   ],
   "source": [
    "#Print\n",
    "for chr_id in chromosomes:           # For each chromosome in the chromosomes dictionary\n",
    "    chromosome = chromosomes[chr_id]\n",
    "    for gene in chromosome.genes:    # For each gene in the chromosome object\n",
    "        print(\">\",gene)\n",
    "        print(chromosome.amino_acid_seqs[gene]) # print translation"
   ]
  }
 ],
 "metadata": {
  "kernelspec": {
   "display_name": "Python 3 (ipykernel)",
   "language": "python",
   "name": "python3"
  },
  "language_info": {
   "codemirror_mode": {
    "name": "ipython",
    "version": 3
   },
   "file_extension": ".py",
   "mimetype": "text/x-python",
   "name": "python",
   "nbconvert_exporter": "python",
   "pygments_lexer": "ipython3",
   "version": "3.9.7"
  }
 },
 "nbformat": 4,
 "nbformat_minor": 5
}
